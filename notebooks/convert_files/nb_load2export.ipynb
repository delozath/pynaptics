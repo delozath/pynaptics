{
 "cells": [
  {
   "cell_type": "markdown",
   "id": "846506c5",
   "metadata": {},
   "source": [
    "# Load file to export to another format"
   ]
  },
  {
   "cell_type": "code",
   "execution_count": 1,
   "id": "13d2e259",
   "metadata": {},
   "outputs": [],
   "source": [
    "import os\n",
    "from lib import pd, FileDriver, Dialogs\n",
    "\n"
   ]
  },
  {
   "cell_type": "code",
   "execution_count": 2,
   "id": "bd96e1d5",
   "metadata": {},
   "outputs": [],
   "source": [
    "win = Dialogs()\n",
    "pfname = win.load()"
   ]
  },
  {
   "cell_type": "code",
   "execution_count": 3,
   "id": "62333603",
   "metadata": {},
   "outputs": [],
   "source": [
    "file = FileDriver()\n",
    "data = file.load(pfname)"
   ]
  },
  {
   "cell_type": "code",
   "execution_count": null,
   "id": "4b7cfa60",
   "metadata": {},
   "outputs": [],
   "source": [
    "#NOTE: to much complications and no better visualization\n",
    "#from ipywidgets import interact, IntSlider\n",
    "#from IPython.display import display\n",
    "#\n",
    "#@interact(x=IntSlider(min=10, max=100, step=10, value=10))\n",
    "#def...\n",
    "\n",
    "#percentage of rows to display\n",
    "perc = 10\n",
    "\n",
    "n_rows = int(perc/100 * data.shape[0])\n",
    "pd.set_option(\"display.min_rows\", n_rows)\n",
    "pd.set_option(\"display.max_rows\", n_rows) \n",
    "\n",
    "data"
   ]
  },
  {
   "cell_type": "code",
   "execution_count": null,
   "id": "a8950023",
   "metadata": {},
   "outputs": [],
   "source": [
    "pfname = win.save()\n",
    "\n",
    "print(pfname)\n",
    "file.save(data, pfname)"
   ]
  }
 ],
 "metadata": {
  "kernelspec": {
   "display_name": "full",
   "language": "python",
   "name": "python3"
  },
  "language_info": {
   "codemirror_mode": {
    "name": "ipython",
    "version": 3
   },
   "file_extension": ".py",
   "mimetype": "text/x-python",
   "name": "python",
   "nbconvert_exporter": "python",
   "pygments_lexer": "ipython3",
   "version": "3.12.3"
  }
 },
 "nbformat": 4,
 "nbformat_minor": 5
}
